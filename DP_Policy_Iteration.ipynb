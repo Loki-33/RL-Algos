{
  "nbformat": 4,
  "nbformat_minor": 0,
  "metadata": {
    "colab": {
      "provenance": [],
      "authorship_tag": "ABX9TyN89MY2FFxrkSx4bpU2+xSb",
      "include_colab_link": true
    },
    "kernelspec": {
      "name": "python3",
      "display_name": "Python 3"
    },
    "language_info": {
      "name": "python"
    }
  },
  "cells": [
    {
      "cell_type": "markdown",
      "metadata": {
        "id": "view-in-github",
        "colab_type": "text"
      },
      "source": [
        "<a href=\"https://colab.research.google.com/github/Loki-33/RL-Algos/blob/main/DP_Policy_Iteration.ipynb\" target=\"_parent\"><img src=\"https://colab.research.google.com/assets/colab-badge.svg\" alt=\"Open In Colab\"/></a>"
      ]
    },
    {
      "cell_type": "code",
      "execution_count": null,
      "metadata": {
        "id": "4YB4PcWGrikd"
      },
      "outputs": [],
      "source": [
        "import numpy as np"
      ]
    },
    {
      "cell_type": "markdown",
      "source": [
        "# **POLICY EVALUATION**"
      ],
      "metadata": {
        "id": "8USnolN_w6Pa"
      }
    },
    {
      "cell_type": "code",
      "source": [
        "grid_size = 4\n",
        "states = grid_size * grid_size\n",
        "terminal_states = [0, 15]\n",
        "gamma = 1.0\n",
        "theta = 1e-4"
      ],
      "metadata": {
        "id": "6ucnUeO9rqui"
      },
      "execution_count": null,
      "outputs": []
    },
    {
      "cell_type": "code",
      "source": [
        "actions = {\n",
        "    0: (-1, 0),  # up\n",
        "    1: (1, 0),   # down\n",
        "    2: (0, -1),  # left\n",
        "    3: (0, 1)    # right\n",
        "}"
      ],
      "metadata": {
        "id": "sd_pmD1FxSBW"
      },
      "execution_count": null,
      "outputs": []
    },
    {
      "cell_type": "code",
      "source": [
        "divmod(4,2) #divmod(dividend, divisor)-> (quotient, remainder)"
      ],
      "metadata": {
        "id": "vXhJjWskxZCY"
      },
      "execution_count": null,
      "outputs": []
    },
    {
      "cell_type": "code",
      "source": [
        "divmod(1,16)"
      ],
      "metadata": {
        "id": "-QA3sbfI0Mg0"
      },
      "execution_count": null,
      "outputs": []
    },
    {
      "cell_type": "code",
      "source": [
        "def step(state, action):\n",
        "  if state in terminal_states:\n",
        "    return state, 0\n",
        "  row, col = divmod(state, grid_size)\n",
        "  dr, dc = actions[action]\n",
        "  new_row = min(max(row+dr, 0), grid_size-1)\n",
        "  new_col = min(max(col+dc, 0), grid_size-1)\n",
        "  new_state = new_row * grid_size + new_col\n",
        "  reward = -1\n",
        "  return new_state, reward"
      ],
      "metadata": {
        "id": "3t6J4Ts9xeSf"
      },
      "execution_count": null,
      "outputs": []
    },
    {
      "cell_type": "code",
      "source": [
        "def policy_evaluation():\n",
        "  V = np.zeros(states)\n",
        "\n",
        "  while True:\n",
        "    delta = 0\n",
        "    for s in range(states):\n",
        "      if s in terminal_states:\n",
        "        continue\n",
        "      v =0\n",
        "      for a in range(4):\n",
        "        s_prime, r = step(s, a)\n",
        "        v += 0.25 * (r + gamma * V[s_prime])\n",
        "      delta = max(delta, abs(V[s] - v))\n",
        "      V[s] = v\n",
        "    if delta < theta:\n",
        "      break\n",
        "  return V.reshape((grid_size, grid_size))"
      ],
      "metadata": {
        "id": "75ASygQh1L82"
      },
      "execution_count": null,
      "outputs": []
    },
    {
      "cell_type": "code",
      "source": [
        "hehe = policy_evaluation()\n",
        "print(np.round(hehe, 3))"
      ],
      "metadata": {
        "id": "vJzMQKCl2I7x"
      },
      "execution_count": null,
      "outputs": []
    },
    {
      "cell_type": "code",
      "source": [
        "new_actions =  {\n",
        "    (-1, 0): '↑',\n",
        "    (1, 0): '↓',\n",
        "    (0, -1): '←',\n",
        "    (0, 1): '→'\n",
        "}"
      ],
      "metadata": {
        "id": "HYolw21N8oG8"
      },
      "execution_count": null,
      "outputs": []
    },
    {
      "cell_type": "code",
      "source": [
        "def policy_evaluation(policy):\n",
        "  V = np.zeros(states)\n",
        "  while True:\n",
        "    delta = 0\n",
        "    for s in range(states):\n",
        "      if s in terminal_states:\n",
        "        continue\n",
        "      a = policy[s]\n",
        "      s_prime, r = step(s, a)\n",
        "      v = r + gamma * V[s_prime]\n",
        "      delta = max(delta, abs(V[s] - v))\n",
        "      V[s] = v\n",
        "    if delta < theta:\n",
        "      break\n",
        "  return V"
      ],
      "metadata": {
        "id": "IOF9C6Q4D0Fi"
      },
      "execution_count": null,
      "outputs": []
    },
    {
      "cell_type": "code",
      "source": [
        "def policy_improvement(V):\n",
        "    policy = np.zeros(states, dtype=int)\n",
        "    for s in range(states):\n",
        "        if s in terminal_states:\n",
        "            continue\n",
        "        best_val = float('-inf')\n",
        "        best_action = 0\n",
        "        for a in range(4):\n",
        "            s_prime, r = step(s, a)\n",
        "            val = r + gamma * V[s_prime]\n",
        "            if val > best_val:\n",
        "                best_val = val\n",
        "                best_action = a\n",
        "        policy[s] = best_action\n",
        "    return policy"
      ],
      "metadata": {
        "id": "_T_zOK5D2Lfm"
      },
      "execution_count": null,
      "outputs": []
    },
    {
      "cell_type": "code",
      "source": [
        "def display_policy(policy, iteration=None):\n",
        "    arrow_map = ['↑', '↓', '←', '→']\n",
        "    grid = []\n",
        "    for i in range(grid_size):\n",
        "        row = []\n",
        "        for j in range(grid_size):\n",
        "            s = i * grid_size + j\n",
        "            if s in terminal_states:\n",
        "                row.append('T')\n",
        "            else:\n",
        "                row.append(arrow_map[policy[s]])\n",
        "        grid.append(row)\n",
        "    if iteration is not None:\n",
        "        print(f\"\\nPolicy after iteration {iteration}:\")\n",
        "    else:\n",
        "        print(\"\\nFinal Policy:\")\n",
        "    for row in grid:\n",
        "        print(\" \".join(row))"
      ],
      "metadata": {
        "id": "byDFXYSQGuy_"
      },
      "execution_count": null,
      "outputs": []
    },
    {
      "cell_type": "code",
      "source": [
        "policy = np.zeros(states, dtype=int)"
      ],
      "metadata": {
        "id": "2p7zmq_SHCWb"
      },
      "execution_count": null,
      "outputs": []
    },
    {
      "cell_type": "code",
      "source": [
        "display_policy(policy, iteration=1)"
      ],
      "metadata": {
        "id": "VNEi3sTvHARc"
      },
      "execution_count": null,
      "outputs": []
    },
    {
      "cell_type": "code",
      "source": [
        "policy = np.zeros(states, dtype=int)\n",
        "\n",
        "for epoch in range(3):\n",
        "    V = policy_evaluation(policy)\n",
        "    new_policy = policy_improvement(V)\n",
        "    display_policy(new_policy, iteration=epoch + 1)\n",
        "\n",
        "    if np.array_equal(policy, new_policy):\n",
        "        print(f\"Policy converged at iteration {epoch+1}\")\n",
        "        break\n",
        "\n",
        "    policy = new_policy"
      ],
      "metadata": {
        "id": "pc7kxQBN-Bcg"
      },
      "execution_count": null,
      "outputs": []
    },
    {
      "cell_type": "code",
      "source": [
        "arrow_map = ['↑', '↓', '←', '→']\n",
        "policy_grid = [[arrow_map[policy[i*grid_size + j]] if (i*grid_size + j) not in terminal_states else 'T'\n",
        "                for j in range(grid_size)] for i in range(grid_size)]\n",
        "\n",
        "for row in policy_grid:\n",
        "    print(' '.join(row))"
      ],
      "metadata": {
        "id": "0Vum33lAEiQh"
      },
      "execution_count": null,
      "outputs": []
    }
  ]
}