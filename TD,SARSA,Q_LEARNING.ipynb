{
  "nbformat": 4,
  "nbformat_minor": 0,
  "metadata": {
    "colab": {
      "provenance": [],
      "authorship_tag": "ABX9TyNwL8IIBvKKIHIbQGyq2Jvx",
      "include_colab_link": true
    },
    "kernelspec": {
      "name": "python3",
      "display_name": "Python 3"
    },
    "language_info": {
      "name": "python"
    }
  },
  "cells": [
    {
      "cell_type": "markdown",
      "metadata": {
        "id": "view-in-github",
        "colab_type": "text"
      },
      "source": [
        "<a href=\"https://colab.research.google.com/github/Loki-33/RL-Algos/blob/main/TD%2CSARSA%2CQ_LEARNING.ipynb\" target=\"_parent\"><img src=\"https://colab.research.google.com/assets/colab-badge.svg\" alt=\"Open In Colab\"/></a>"
      ]
    },
    {
      "cell_type": "code",
      "source": [
        "import numpy as np\n",
        "import random"
      ],
      "metadata": {
        "id": "HrMbJi4080nl"
      },
      "execution_count": null,
      "outputs": []
    },
    {
      "cell_type": "code",
      "source": [
        "states = [0, 1, 2, 3, 4, 5, 6]  # 0 and 6 are terminal\n",
        "V = np.zeros(len(states))       # Initialize all V(s) to 0\n",
        "alpha = 0.1                     # learning rate\n",
        "gamma = 1.0                     # discount factor\n",
        "episodes = 1000"
      ],
      "metadata": {
        "id": "EtdIID9Z80ji"
      },
      "execution_count": null,
      "outputs": []
    },
    {
      "cell_type": "code",
      "source": [
        "start_state = 3"
      ],
      "metadata": {
        "id": "WiAA5Ue5N24c"
      },
      "execution_count": null,
      "outputs": []
    },
    {
      "cell_type": "code",
      "source": [
        "for episode in range(episodes):\n",
        "  state = start_state\n",
        "  while state not in [0,6]:\n",
        "    action  = random.choice([-1, 1])\n",
        "    next_state = state + action\n",
        "    reward = 1 if next_state == 6 else 0\n",
        "\n",
        "    V[state] += alpha * (reward + gamma * V[next_state] - V[state])\n",
        "    state = next_state"
      ],
      "metadata": {
        "id": "3yqI5cYh80gD"
      },
      "execution_count": null,
      "outputs": []
    },
    {
      "cell_type": "code",
      "source": [
        "for i, v in enumerate(V):\n",
        "    print(f\"V({i}) = {v:.3f}\")"
      ],
      "metadata": {
        "id": "b-CNPDaQOJdj"
      },
      "execution_count": null,
      "outputs": []
    },
    {
      "cell_type": "code",
      "source": [
        "#SARSA-State Action Reward State Action"
      ],
      "metadata": {
        "id": "MYIhTFA5dGr-"
      },
      "execution_count": null,
      "outputs": []
    },
    {
      "cell_type": "markdown",
      "source": [
        "# **SARSA**"
      ],
      "metadata": {
        "id": "yMoCnRR7dMFe"
      }
    },
    {
      "cell_type": "code",
      "source": [
        "from collections import defaultdict"
      ],
      "metadata": {
        "id": "IYj3OVR-dbV6"
      },
      "execution_count": null,
      "outputs": []
    },
    {
      "cell_type": "code",
      "source": [
        "states = [0,1,2,3,4,5,6]\n",
        "actions = [-1, 1]\n",
        "Q = defaultdict(lambda : {a: 0.0 for a in actions})\n",
        "alpha = 0.1\n",
        "gamma = 1.0\n",
        "episodes = 1000\n",
        "start_state = 3\n",
        "epsilon = 0.1"
      ],
      "metadata": {
        "id": "X52TPinVdGnY"
      },
      "execution_count": null,
      "outputs": []
    },
    {
      "cell_type": "code",
      "source": [
        "for ep in range(episodes):\n",
        "    state = start_state\n",
        "    if random.random() < epsilon:\n",
        "        action = random.choice(actions)\n",
        "    else:\n",
        "        action = max(Q[state], key=Q[state].get)\n",
        "\n",
        "    while state not in [0, 6]:\n",
        "        next_state = state + action\n",
        "        reward = 1 if next_state == 6 else 0\n",
        "\n",
        "        if random.random() < epsilon:\n",
        "            next_action = random.choice(actions)\n",
        "        else:\n",
        "            next_action = max(Q[next_state], key=Q[next_state].get)\n",
        "        Q[state][action] += alpha * (reward + gamma * Q[next_state][next_action] - Q[state][action])\n",
        "        state = next_state\n",
        "        action = next_action"
      ],
      "metadata": {
        "id": "t_QHVe3PdGiv"
      },
      "execution_count": null,
      "outputs": []
    },
    {
      "cell_type": "code",
      "source": [],
      "metadata": {
        "id": "TRicDmT1gO-L"
      },
      "execution_count": null,
      "outputs": []
    },
    {
      "cell_type": "code",
      "source": [
        "#Q-LEARNING"
      ],
      "metadata": {
        "id": "i4LZMvfgOLkr"
      },
      "execution_count": null,
      "outputs": []
    },
    {
      "cell_type": "markdown",
      "source": [
        "# **Q-LEARNING**"
      ],
      "metadata": {
        "id": "hEQeHPLlgUGy"
      }
    },
    {
      "cell_type": "code",
      "source": [
        "states = [0,1,2,3,4,5,6]\n",
        "actions = [-1, 1]\n",
        "Q = defaultdict(lambda : {a: 0.0 for a in actions})\n",
        "alpha = 0.1\n",
        "gamma = 1.0\n",
        "episodes = 1000\n",
        "start_state = 3\n",
        "epsilon = 0.1"
      ],
      "metadata": {
        "id": "ul25iZJzgZq0"
      },
      "execution_count": null,
      "outputs": []
    },
    {
      "cell_type": "code",
      "source": [
        "for ep in range(episodes):\n",
        "    state = start_state\n",
        "    while state not in [0, 6]:\n",
        "        next_state = state + action\n",
        "        reward = 1 if next_state == 6 else 0\n",
        "\n",
        "        if random.random() < epsilon:\n",
        "            action = random.choice(actions)\n",
        "        else:\n",
        "            action = max(Q[next_state], key=Q[next_state].get)\n",
        "        Q[state][action] += alpha * (\n",
        "            reward + gamma * max(Q[next_state].values()) - Q[state][action]\n",
        "        )\n",
        "        state = next_state"
      ],
      "metadata": {
        "id": "CaEdtxWngS03"
      },
      "execution_count": null,
      "outputs": []
    },
    {
      "cell_type": "code",
      "source": [],
      "metadata": {
        "id": "kq7mUyQ9gTml"
      },
      "execution_count": null,
      "outputs": []
    },
    {
      "cell_type": "code",
      "source": [],
      "metadata": {
        "id": "rI2S6NuPgTvg"
      },
      "execution_count": null,
      "outputs": []
    },
    {
      "cell_type": "code",
      "source": [],
      "metadata": {
        "id": "RuFNKpYQgT2_"
      },
      "execution_count": null,
      "outputs": []
    },
    {
      "cell_type": "code",
      "source": [],
      "metadata": {
        "id": "ucTDIt3WgT95"
      },
      "execution_count": null,
      "outputs": []
    }
  ]
}