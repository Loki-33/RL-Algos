{
  "nbformat": 4,
  "nbformat_minor": 0,
  "metadata": {
    "colab": {
      "provenance": [],
      "authorship_tag": "ABX9TyO/UqkqpR4xc2cixnegSsMP",
      "include_colab_link": true
    },
    "kernelspec": {
      "name": "python3",
      "display_name": "Python 3"
    },
    "language_info": {
      "name": "python"
    }
  },
  "cells": [
    {
      "cell_type": "markdown",
      "metadata": {
        "id": "view-in-github",
        "colab_type": "text"
      },
      "source": [
        "<a href=\"https://colab.research.google.com/github/Loki-33/RL-Algos/blob/main/DQN.ipynb\" target=\"_parent\"><img src=\"https://colab.research.google.com/assets/colab-badge.svg\" alt=\"Open In Colab\"/></a>"
      ]
    },
    {
      "cell_type": "code",
      "source": [
        "import numpy as np\n",
        "from collections import defaultdict\n",
        "import random\n",
        "import torch"
      ],
      "metadata": {
        "id": "TeMWRDinRScu"
      },
      "execution_count": null,
      "outputs": []
    },
    {
      "cell_type": "code",
      "source": [
        "states = [0,1,2,3,4,5,6]\n",
        "actions = [-1, 1]\n",
        "goal_state = 6\n",
        "start_state = 3"
      ],
      "metadata": {
        "id": "t6bvPbyeTAPv"
      },
      "execution_count": null,
      "outputs": []
    },
    {
      "cell_type": "code",
      "source": [
        "epsilon = 0.1\n",
        "gamma = 1.0\n",
        "alpha = 0.1\n",
        "episodes = 1000\n",
        "max_steps = 20\n",
        "buffer_size = 1000\n",
        "batch_size = 4\n",
        "target_update_freq = 20"
      ],
      "metadata": {
        "id": "JiXWK4yVXisM"
      },
      "execution_count": null,
      "outputs": []
    },
    {
      "cell_type": "code",
      "source": [
        "Q = defaultdict(lambda: {a: 0.0 for a in actions})\n",
        "Q_target = defaultdict(lambda: {a: 0.0 for a in actions})\n",
        "buffer = []\n"
      ],
      "metadata": {
        "id": "pxxgPhOKRayV"
      },
      "execution_count": null,
      "outputs": []
    },
    {
      "cell_type": "code",
      "source": [
        "for ep in range(episodes):\n",
        "  state = start_state\n",
        "  for step in range(max_steps):\n",
        "    if random.random() < epsilon:\n",
        "      action = random.choice(actions)\n",
        "    else:\n",
        "      action = max(actions, key=lambda a: Q[state][a])\n",
        "    next_state = (state + action)\n",
        "    next_state = max(0, min(next_state, max(states)))\n",
        "    reward = 1 if next_state == 6 else 0\n",
        "    done = (next_state == goal_state)\n",
        "    buffer.append((state, action, reward, next_state))\n",
        "\n",
        "    if len(buffer) > buffer_size:\n",
        "      buffer.pop(0)\n",
        "\n",
        "    if len(buffer) >= batch_size:\n",
        "      batch = random.sample(buffer, batch_size)\n",
        "      for s, a, r, s2 in batch:\n",
        "        max_q_next = max(Q_target[s2].values()) if s2 in Q_target else 0\n",
        "        target = r+gamma*max_q_next\n",
        "\n",
        "        #Q-learning update\n",
        "        Q[s][a] += alpha*(target-Q[s][a])\n",
        "\n",
        "    if ep % target_update_freq == 0:\n",
        "      for s in Q:\n",
        "        for a in Q[s]:\n",
        "          Q_target[s][a] = Q[s][a]\n",
        "\n",
        "    state =next_state\n",
        "    if done:\n",
        "      break\n",
        "\n",
        "  if ep % 100 == 0:\n",
        "        print(f\"Episode {ep}: reached state {state}\")\n"
      ],
      "metadata": {
        "id": "DvtsAdYIRanw"
      },
      "execution_count": null,
      "outputs": []
    },
    {
      "cell_type": "code",
      "source": [
        "print(\"\\nLearned Policy:\")\n",
        "for s in states:\n",
        "    if s == goal_state:\n",
        "        print(f\"State {s}: Goal 🎯\")\n",
        "    else:\n",
        "        best_a = max(Q[s], key=Q[s].get)\n",
        "        print(f\"State {s}: Best Action {best_a}, Q-values: {Q[s]}\")\n"
      ],
      "metadata": {
        "id": "VUNbnC-rRahF"
      },
      "execution_count": null,
      "outputs": []
    },
    {
      "cell_type": "code",
      "source": [
        "#######the above method is not using gradient descnet, lets do it with it now"
      ],
      "metadata": {
        "id": "IwNP8dJkRaZd"
      },
      "execution_count": null,
      "outputs": []
    },
    {
      "cell_type": "code",
      "source": [
        "from collections import deque\n",
        "import torch.optim as optim\n",
        "import torch.nn as nn"
      ],
      "metadata": {
        "id": "sB9h9YnbehqP"
      },
      "execution_count": null,
      "outputs": []
    },
    {
      "cell_type": "code",
      "source": [
        "class grid:\n",
        "  def __init__(self,size):\n",
        "    self.size = size\n",
        "    self.start = size//2\n",
        "    self.goal = size-1\n",
        "\n",
        "  def reset(self):\n",
        "    self.state = self.start\n",
        "    return self._get_state()\n",
        "\n",
        "  def step(self, action):\n",
        "    move = -1 if action == 0 else 1\n",
        "    self.state = min(self.size -1, max(0, self.state+move))\n",
        "    reward = 1 if self.state == self.goal else 0\n",
        "    done = (self.state == self.goal)\n",
        "    return self._get_state(), reward, done\n",
        "\n",
        "  def _get_state(self):\n",
        "    one_hot = np.zeros(self.size)\n",
        "    one_hot[self.state] = 1.0\n",
        "    return one_hot"
      ],
      "metadata": {
        "id": "FvNSlNyeet5X"
      },
      "execution_count": null,
      "outputs": []
    },
    {
      "cell_type": "code",
      "source": [
        "class QNet(nn.Module):\n",
        "  def __init__(self, state_dim, action_dim):\n",
        "    super().__init__()\n",
        "    self.net = nn.Sequential(\n",
        "        nn.Linear(state_dim, 32),\n",
        "        nn.ReLU(),\n",
        "        nn.Linear(32, action_dim)\n",
        "    )\n",
        "\n",
        "  def forward(self, x):\n",
        "    return self.net(x)"
      ],
      "metadata": {
        "id": "QteisTomfKg8"
      },
      "execution_count": null,
      "outputs": []
    },
    {
      "cell_type": "code",
      "source": [
        "state_dim = 7\n",
        "action_dim = 2\n",
        "episodes = 500\n",
        "gamma = 0.99\n",
        "epsilon = 1.0\n",
        "epsilon_decay = 0.995\n",
        "epsilon_min = 0.05\n",
        "lr = 1e-3\n",
        "batch_size = 32\n",
        "buffer_size = 1000\n",
        "target_update_freq = 20"
      ],
      "metadata": {
        "id": "Zh7QtCiqfe_p"
      },
      "execution_count": null,
      "outputs": []
    },
    {
      "cell_type": "code",
      "source": [
        "env = grid(state_dim)\n",
        "q_net = QNet(state_dim, action_dim)\n",
        "target_net = QNet(state_dim, action_dim)\n",
        "target_net.load_state_dict(q_net.state_dict())\n",
        "optimizer = optim.Adam(q_net.parameters(), lr=lr)\n",
        "buffer = deque(maxlen=buffer_size)\n",
        "loss_fn = nn.MSELoss()\n"
      ],
      "metadata": {
        "id": "N9itWCwLfg3c"
      },
      "execution_count": null,
      "outputs": []
    },
    {
      "cell_type": "code",
      "source": [
        "import sys"
      ],
      "metadata": {
        "id": "NI-difcQAUed"
      },
      "execution_count": null,
      "outputs": []
    },
    {
      "cell_type": "code",
      "source": [
        "for ep in range(episodes):\n",
        "  state = env.reset()\n",
        "  episode_reward = 0\n",
        "\n",
        "  for step in range(20):\n",
        "    state_tensor = torch.tensor(state, dtype=torch.float32).unsqueeze(0)\n",
        "    if random.random() < epsilon:\n",
        "      action = random.choice([0,1])\n",
        "    else:\n",
        "      with torch.no_grad():\n",
        "        q_values = q_net(state_tensor)\n",
        "        action = torch.argmax(q_values).item()\n",
        "\n",
        "    next_state, reward, done = env.step(action)\n",
        "    buffer.append((state, action, reward, next_state, done))\n",
        "    state = next_state\n",
        "    episode_reward += reward\n",
        "\n",
        "    if len(buffer) >= batch_size:\n",
        "      batch = random.sample(buffer, batch_size)\n",
        "      s, a, r, s2, d = zip(*batch)\n",
        "\n",
        "      sys.exit(1)\n",
        "      s = torch.tensor(s, dtype=torch.float32)\n",
        "      a = torch.tensor(a, dtype=torch.int64).unsqueeze(1)\n",
        "      r = torch.tensor(r, dtype=torch.float32).unsqueeze(1)\n",
        "      s2 = torch.tensor(s2, dtype=torch.float32)\n",
        "      d = torch.tensor(d, dtype=torch.float32).unsqueeze(1)\n",
        "\n",
        "\n",
        "      q_values = q_net(s).gather(1, a)\n",
        "      with torch.no_grad():\n",
        "        max_next_q = target_net(s2).max(1)[0].unsqueeze(0)\n",
        "        target_q = r + gamma * max_next_q * (1 - d)\n",
        "\n",
        "      loss = loss_fn(q_values, target_q)\n",
        "      optimizer.zero_grad()\n",
        "      loss.backward()\n",
        "      optimizer.step()\n",
        "\n",
        "    if done:\n",
        "      break\n",
        "  if ep%target_update_freq == 0:\n",
        "    target_net.load_state_dict(q_net.state_dict())\n",
        "\n",
        "  epsilon = max(epsilon_min, epsilon * epsilon_decay)\n",
        "\n",
        "  if ep%50 == 0:\n",
        "    print(f\"Episode {ep}, Reward: {episode_reward}, Epsilon: {epsilon:.3f}\")\n"
      ],
      "metadata": {
        "id": "3b73MeduRSUj"
      },
      "execution_count": null,
      "outputs": []
    },
    {
      "cell_type": "code",
      "source": [],
      "metadata": {
        "id": "VRPHmk11AuP1"
      },
      "execution_count": null,
      "outputs": []
    }
  ]
}