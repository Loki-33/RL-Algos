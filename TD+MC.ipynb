{
  "cells": [
    {
      "cell_type": "markdown",
      "metadata": {
        "id": "view-in-github",
        "colab_type": "text"
      },
      "source": [
        "<a href=\"https://colab.research.google.com/github/Loki-33/RL-Algos/blob/main/TD%2BMC.ipynb\" target=\"_parent\"><img src=\"https://colab.research.google.com/assets/colab-badge.svg\" alt=\"Open In Colab\"/></a>"
      ]
    },
    {
      "cell_type": "code",
      "execution_count": null,
      "metadata": {
        "id": "Vq4NBfVqGhGH"
      },
      "outputs": [],
      "source": [
        "from collections import deque, defaultdict\n",
        "import random\n",
        "import gym\n",
        "import numpy as np"
      ]
    },
    {
      "cell_type": "code",
      "source": [
        "env = gym.make(\"CartPole-v1\", render_mode=\"rgb_array\")"
      ],
      "metadata": {
        "id": "okBB3LrDOecZ"
      },
      "execution_count": null,
      "outputs": []
    },
    {
      "cell_type": "code",
      "source": [
        "n_features = env.observation_space.shape[0]\n",
        "w = np.zeros(n_features)\n"
      ],
      "metadata": {
        "id": "NwBT8Uc8O8zh"
      },
      "execution_count": null,
      "outputs": []
    },
    {
      "cell_type": "code",
      "source": [
        "episodes = 200\n",
        "alpha = 0.01           # learning rate\n",
        "gamma = 0.99           # discount factor\n",
        "lambda_ = 0.9          # trace decay"
      ],
      "metadata": {
        "id": "tGJEl09sPFJa"
      },
      "execution_count": null,
      "outputs": []
    },
    {
      "cell_type": "code",
      "source": [
        "for ep in range(episodes):\n",
        "  state = env.reset()\n",
        "  done = False\n",
        "  e = np.zeros_like(w)\n",
        "  while not done:\n",
        "    action = env.action_space.sample()\n",
        "    next_state, reward, done, truncated = env.step(action)\n",
        "    v_s = np.dot(w, state)\n",
        "    v_s_next = np.dot(w, next_state) if not done else 0\n",
        "    delta = reward + gamma * v_s_next - v_s\n",
        "    e = gamma * lambda_ * e + state\n",
        "    w += alpha * delta * e\n",
        "    state = next_state\n",
        "\n",
        "    if done or truncated:\n",
        "      break\n",
        "  if ep % 50 ==0:\n",
        "    print(f\"episode {ep} complete\")\n",
        "env.close()"
      ],
      "metadata": {
        "id": "9t2vfWNSPD9q"
      },
      "execution_count": null,
      "outputs": []
    },
    {
      "cell_type": "code",
      "source": [
        "#SARSA"
      ],
      "metadata": {
        "id": "R8xh4woRRBJ6"
      },
      "execution_count": null,
      "outputs": []
    },
    {
      "cell_type": "code",
      "source": [
        "n_obs = env.observation_space.shape[0]\n",
        "n_act = env.action_space.n\n",
        "\n",
        "w = np.zeros((n_act, n_obs))\n",
        "eligibility = np.zeros_like(w)"
      ],
      "metadata": {
        "id": "zH8OCJt0UGMg"
      },
      "execution_count": null,
      "outputs": []
    },
    {
      "cell_type": "code",
      "source": [
        "for ep in range(episodes):\n",
        "  state = env.reset()\n",
        "  eligibility.fill(0)\n",
        "  done = False\n",
        "  if random.random()< epsilon:\n",
        "    action = env.action_space.sample()\n",
        "  else:\n",
        "    q_vals = [np.dot(w[a], state) for a in range(n_actions)]\n",
        "    action = np.argmax(q_vals)\n",
        "  while not done:\n",
        "    next_state, reward, done, truncated = env.step(action)\n",
        "    if random.random()< epsilon:\n",
        "      next_action = env.action_space.sample()\n",
        "    else:\n",
        "      q_vals = [np.dot(w[a], next_state) for a in range(n_actions)]\n",
        "      next_action = np.argmax(q_vals)\n",
        "\n",
        "    q_sa = np.dot(w[action], state)\n",
        "    q_snext_anext = np.dot(w[next_action], next_state) if not done else 0\n",
        "\n",
        "    delta = reward + gamma * q_snext_anext - q_sa\n",
        "    eligibility[action] += state\n",
        "    for a in range(n_actions):\n",
        "      w[a] += alpha * delta * eligibility[a]\n",
        "      eligibility[a] *= gamma * lambda_\n",
        "\n",
        "    state = next_state\n",
        "    action = next_action\n",
        "\n",
        "    if done or truncated:\n",
        "      break\n",
        "  if ep%50==0:\n",
        "    print(f\"Episode {ep} completet\")\n",
        "env.close()"
      ],
      "metadata": {
        "id": "I81_Rq3EURRv"
      },
      "execution_count": null,
      "outputs": []
    }
  ],
  "metadata": {
    "colab": {
      "provenance": [],
      "authorship_tag": "ABX9TyP9xX+WiYBs6bpz/ZISmxt8",
      "include_colab_link": true
    },
    "kernelspec": {
      "display_name": "Python 3",
      "name": "python3"
    },
    "language_info": {
      "name": "python"
    }
  },
  "nbformat": 4,
  "nbformat_minor": 0
}